{
 "cells": [
  {
   "cell_type": "code",
   "execution_count": 1,
   "metadata": {},
   "outputs": [],
   "source": [
    "import pandas as pd\n",
    "import random\n",
    "import logging\n",
    "import numpy as np\n",
    "import sys\n",
    "import matplotlib.pyplot as plt\n",
    "from sklearn.model_selection import train_test_split"
   ]
  },
  {
   "cell_type": "code",
   "execution_count": 2,
   "metadata": {},
   "outputs": [],
   "source": [
    "def feature_normalization(train, test):\n",
    "     #1. concate train and test along the axis 0\n",
    "    new=np.concatenate((train,test),axis=0)\n",
    "\n",
    "    #2. drop the constant feature\n",
    "    indices=(new == new[0,:]).all(axis = 0)\n",
    "    new= new[:,~indices]\n",
    "\n",
    "    #3. find max and min and rescale the feature\n",
    "    maximum=new.max(axis=0) \n",
    "    minimum=new.min(axis=0)\n",
    "    interval=maximum-minimum\n",
    "    new=(new-minimum)/interval\n",
    "\n",
    "    #4. split back along axis 0\n",
    "    [train_normalized, test_normalized]= np.split(new,[train.shape[0]])\n",
    "\n",
    "    return train_normalized, test_normalized\n"
   ]
  },
  {
   "cell_type": "code",
   "execution_count": 3,
   "metadata": {},
   "outputs": [
    {
     "name": "stdout",
     "output_type": "stream",
     "text": [
      "loading the dataset\n",
      "Split into Train and Test\n",
      "Scaling all to [0, 1]\n"
     ]
    }
   ],
   "source": [
    "print('loading the dataset')\n",
    "df = pd.read_csv('data.csv', delimiter=',')\n",
    "X = df.values[:,:-1]\n",
    "y = df.values[:,-1]\n",
    "\n",
    "print('Split into Train and Test')\n",
    "X_train, X_test, y_train, y_test = train_test_split(X, y, test_size =100, random_state=10)\n",
    "\n",
    "print(\"Scaling all to [0, 1]\")\n",
    "X_train, X_test = feature_normalization(X_train, X_test)\n",
    "X_train = np.hstack((X_train, np.ones((X_train.shape[0], 1))))  # Add bias term\n",
    "X_test = np.hstack((X_test, np.ones((X_test.shape[0], 1)))) # Add bias term\n"
   ]
  },
  {
   "cell_type": "code",
   "execution_count": 4,
   "metadata": {},
   "outputs": [],
   "source": [
    "def compute_square_loss(X, y, theta):\n",
    "    \n",
    "    return np.linalg.norm(np.dot(X,theta)-y,ord=2)**2/y.shape[0]"
   ]
  },
  {
   "cell_type": "code",
   "execution_count": 131,
   "metadata": {},
   "outputs": [],
   "source": [
    "def compute_square_loss_gradient(X, y, theta):\n",
    "\n",
    "    m=y.shape[0]\n",
    "    xx = np.matmul(X.transpose(),X)\n",
    "    return -2/m*(np.dot(xx,theta)-np.dot(X.transpose(),y))"
   ]
  },
  {
   "cell_type": "code",
   "execution_count": 132,
   "metadata": {},
   "outputs": [],
   "source": [
    "\n",
    "####################################\n",
    "#### Batch Gradient Descent\n",
    "def batch_grad_descent(X, y, alpha=0.1, num_iter=1000, check_gradient=False):\n",
    "    \"\"\"\n",
    "    In this question you will implement batch gradient descent to\n",
    "    minimize the square loss objective\n",
    "\n",
    "    Args:\n",
    "        X - the feature vector, 2D numpy array of size (num_instances, num_features)\n",
    "        y - the label vector, 1D numpy array of size (num_instances)\n",
    "        alpha - step size in gradient descent\n",
    "        num_iter - number of iterations to run\n",
    "        check_gradient - a boolean value indicating whether checking the gradient when updating\n",
    "        \n",
    "        stop criterion 10e-6??\n",
    "\n",
    "    Returns:\n",
    "        theta_hist - store the the history of parameter vector in iteration, 2D numpy array of size (num_iter+1, num_features)\n",
    "                    for instance, theta in iteration 0 should be theta_hist[0], theta in ieration (num_iter) is theta_hist[-1]\n",
    "        loss_hist - the history of objective function vector, 1D numpy array of size (num_iter+1)\n",
    "    \"\"\"\n",
    "    num_instances, num_features = X.shape[0], X.shape[1]\n",
    "    theta_hist = np.zeros((num_iter+1, num_features))  #Initialize theta_hist\n",
    "    loss_hist = np.zeros(num_iter+1) #initialize loss_hist\n",
    "    theta = np.zeros(num_features) #initialize theta\n",
    "    #TODO\n",
    "    #solid alpha\n",
    "    \"\"\"\n",
    "    for num in range(1,num_iter):\n",
    "        loss_gradient = compute_square_loss_gradient(X, y, theta_hist[num-1])\n",
    "        if np.linalg.norm(loss_gradient,ord=2) <= 10e-6:\n",
    "            break\n",
    "        theta_hist[num] =theta_hist[num-1] + alpha*loss_gradient\n",
    "        loss_hist[num] = compute_square_loss(X, y, theta_hist[num])\n",
    "\n",
    "    return theta_hist, loss_hist\n",
    "    \"\"\"\n",
    "####################################\n",
    "###Q2.4b: Implement backtracking line search in batch_gradient_descent\n",
    "###Check http://en.wikipedia.org/wiki/Backtracking_line_search for details\n",
    "#TODO\n",
    "   # backtracking line search\n",
    "    def backtracking_step_size(func_current, gradient, beta, gamma, X, y, theta_current):\n",
    "        func_derivative = - beta*np.dot(gradient.transpose(),gradient)\n",
    "        func_new=compute_square_loss(X,y,theta_current+gradient)\n",
    "        t=1\n",
    "        while func_new > func_current + t*func_derivative:\n",
    "            t=gamma*t\n",
    "            func_new = compute_square_loss(X,y,theta_current+t*gradient)\n",
    "        #return theta_new, func_new\n",
    "\n",
    "        return theta_current+t*gradient, func_new\n",
    "\n",
    "\n",
    "\n",
    "\n",
    "    \n",
    "    loss_hist[0] = compute_square_loss(X,y,theta)\n",
    "    beta=0.25\n",
    "    gamma=0.25\n",
    "    #beta = random.random()\n",
    "    #sigma = random.uniform(0, .5)\n",
    "    for num in range(1,num_iter):\n",
    "        loss_gradient = compute_square_loss_gradient(X, y, theta_hist[num-1,:])\n",
    "        if np.linalg.norm(loss_gradient,ord=2) <= 10e-4:\n",
    "            break\n",
    "        theta_hist[num], loss_hist[num] = backtracking_step_size(loss_hist[num-1], \\\n",
    "            loss_gradient, beta, gamma, X, y, theta_hist[num-1,:])\n",
    "        #c=0.5\n",
    "        #gamma=0.5\n",
    "        #delta = c*loss_gradient \n",
    "        #loss_hist[num] = compute_square_loss(X, y, theta_hist[num-1,:] + loss_gradient)\n",
    "        #t=1\n",
    "        #while loss_hist[num] > loss_hist[num-1]+t*delta:\n",
    "        #    t=gamma*t\n",
    "        #    theta_hist[num]=theta_hist[num-1,:] + t*loss_gradient\n",
    "        #    loss_hist[num]= compute_square_loss(X, y, theta_hist[num,:])\n",
    "    theta_hist = theta_hist[0:num,:]\n",
    "    loss_hist = loss_hist[0:num]\n",
    "    return theta_hist, loss_hist\n",
    "        \n"
   ]
  },
  {
   "cell_type": "code",
   "execution_count": 133,
   "metadata": {},
   "outputs": [],
   "source": [
    "gd_thets,bg_loss=batch_grad_descent(X_train, y_train, alpha=0.1, num_iter=1000, check_gradient=True)"
   ]
  },
  {
   "cell_type": "code",
   "execution_count": 134,
   "metadata": {},
   "outputs": [
    {
     "data": {
      "text/plain": [
       "7.961518343622414"
      ]
     },
     "execution_count": 134,
     "metadata": {},
     "output_type": "execute_result"
    }
   ],
   "source": [
    "bg_loss[0]"
   ]
  },
  {
   "cell_type": "code",
   "execution_count": 135,
   "metadata": {},
   "outputs": [
    {
     "data": {
      "text/plain": [
       "<matplotlib.legend.Legend at 0x1fa39f25080>"
      ]
     },
     "execution_count": 135,
     "metadata": {},
     "output_type": "execute_result"
    },
    {
     "data": {
      "image/png": "[encoded data removed]",
      "text/plain": [
       "<Figure size 432x288 with 1 Axes>"
      ]
     },
     "metadata": {
      "needs_background": "light"
     },
     "output_type": "display_data"
    }
   ],
   "source": [
    "fig = plt.figure()\n",
    "ax1 = fig.add_subplot(1, 1, 1) \n",
    "ax1.scatter(np.arange(bg_loss.shape[0]), bg_loss, marker='o', linewidths=1, label='Armijo Rule')\n",
    "ax1.set_xlabel('itteration')\n",
    "ax1.set_ylabel('loss')\n",
    "ax1.legend()\n"
   ]
  },
  {
   "cell_type": "code",
   "execution_count": 136,
   "metadata": {},
   "outputs": [],
   "source": [
    "def compute_regularized_square_loss_gradient(X, y, theta, lambda_reg):\n",
    "    \"\"\"\n",
    "    Compute the gradient of L2-regularized square loss function given X, y and theta\n",
    "\n",
    "    Args:\n",
    "        X - the feature vector, 2D numpy array of size (num_instances, num_features)\n",
    "        y - the label vector, 1D numpy array of size (num_instances)\n",
    "        theta - the parameter vector, 1D numpy array of size (num_features)\n",
    "        lambda_reg - the regularization coefficient\n",
    "\n",
    "    Returns:\n",
    "        grad - gradient vector, 1D numpy array of size (num_features)\n",
    "    \"\"\"\n",
    "    #TODO\n",
    "    m=y.shape[0]\n",
    "    xx = np.matmul(X.transpose(),X)\n",
    "    return -2/m*(np.dot(xx,theta)-np.dot(X.transpose(),y))-lambda_reg*2*theta \n",
    "\n",
    "###################################################\n",
    "### Batch Gradient Descent with regularization term\n",
    "def regularized_grad_descent(X, y, alpha=0.1, lambda_reg=1, num_iter=1000):\n",
    "    \"\"\"\n",
    "    Args:\n",
    "        X - the feature vector, 2D numpy array of size (num_instances, num_features)\n",
    "        y - the label vector, 1D numpy array of size (num_instances)\n",
    "        alpha - step size in gradient descent\n",
    "        lambda_reg - the regularization coefficient\n",
    "        numIter - number of iterations to run\n",
    "\n",
    "    Returns:\n",
    "        theta_hist - the history of parameter vector, 2D numpy array of size (num_iter+1, num_features)\n",
    "        loss_hist - the history of loss function without the regularization term, 1D numpy array.\n",
    "    \"\"\"\n",
    "    (num_instances, num_features) = X.shape\n",
    "    theta = np.zeros(num_features) #Initialize theta\n",
    "    theta_hist = np.zeros((num_iter+1, num_features))  #Initialize theta_hist\n",
    "    loss_hist = np.zeros(num_iter+1) #Initialize loss_hist\n",
    "    #TODO\n",
    "\n",
    "#############################################\n",
    "## Visualization of Regularized Batch Gradient Descent\n",
    "##X-axis: log(lambda_reg)\n",
    "##Y-axis: square_loss\n",
    "    def backtracking_step_size(func_current, gradient, beta, gamma, X, y, theta_current, lambda_reg):\n",
    "        func_derivative = - beta*np.linalg.norm(gradient)\n",
    "        func_new=compute_square_loss(X,y,theta_current+gradient) +\\\n",
    "        lambda_reg*np.linalg.norm(theta_current+gradient,ord=2)**2\n",
    "        t=1\n",
    "        while func_new > func_current + t*func_derivative:\n",
    "            t=gamma*t\n",
    "            func_new = compute_square_loss(X,y,theta_current+t*gradient)+\\\n",
    "            lambda_reg*np.linalg.norm(theta_current+t*gradient,ord=2)**2\n",
    "        #return theta_new, func_new\n",
    "\n",
    "        return theta_current+t*gradient, func_new\n",
    "\n",
    "    loss_hist[0] = compute_square_loss(X,y,theta)+lambda_reg*np.linalg.norm(theta,ord=2)**2\n",
    "    beta=0.25\n",
    "    gamma=0.25\n",
    "    #beta = random.random()\n",
    "    #sigma = random.uniform(0, .5)\n",
    "    for num in range(1,num_iter):\n",
    "        loss_gradient = compute_regularized_square_loss_gradient(X, y, theta_hist[num-1,:], lambda_reg)\n",
    "        if np.linalg.norm(loss_gradient,ord=2) <= 10e-4:\n",
    "            break\n",
    "        theta_hist[num], loss_hist[num] = backtracking_step_size(loss_hist[num-1], \\\n",
    "            loss_gradient, beta, gamma, X, y, theta_hist[num-1,:], lambda_reg)\n",
    "    theta_hist = theta_hist[0:num,:]\n",
    "    loss_hist = loss_hist[0:num]\n",
    "    return theta_hist, loss_hist"
   ]
  },
  {
   "cell_type": "code",
   "execution_count": 137,
   "metadata": {},
   "outputs": [],
   "source": [
    "rbg_theta, rbg_loss=regularized_grad_descent(X_train, y_train, alpha=0.1, lambda_reg=1, num_iter=1000)"
   ]
  },
  {
   "cell_type": "code",
   "execution_count": 138,
   "metadata": {},
   "outputs": [
    {
     "data": {
      "text/plain": [
       "7.961518343622414"
      ]
     },
     "execution_count": 138,
     "metadata": {},
     "output_type": "execute_result"
    }
   ],
   "source": [
    "rbg_loss[0]"
   ]
  },
  {
   "cell_type": "code",
   "execution_count": 139,
   "metadata": {},
   "outputs": [
    {
     "data": {
      "text/plain": [
       "<matplotlib.legend.Legend at 0x1fa3b401860>"
      ]
     },
     "execution_count": 139,
     "metadata": {},
     "output_type": "execute_result"
    },
    {
     "data": {
      "image/png": "[encoded data removed]",
      "text/plain": [
       "<Figure size 432x288 with 1 Axes>"
      ]
     },
     "metadata": {
      "needs_background": "light"
     },
     "output_type": "display_data"
    }
   ],
   "source": [
    "fig = plt.figure()\n",
    "ax = fig.add_subplot(1, 1, 1) \n",
    "ax.scatter(np.arange(rbg_loss.shape[0]), rbg_loss, marker='o', linewidths=1, label='Armijo Rule')\n",
    "ax.set_xlabel('itteration')\n",
    "ax.set_ylabel('loss')\n",
    "ax.legend()"
   ]
  },
  {
   "cell_type": "code",
   "execution_count": 13,
   "metadata": {},
   "outputs": [
    {
     "data": {
      "text/plain": [
       "<Figure size 432x288 with 0 Axes>"
      ]
     },
     "metadata": {},
     "output_type": "display_data"
    }
   ],
   "source": [
    "plt.savefig('regularized_lossdescent.png')"
   ]
  },
  {
   "cell_type": "markdown",
   "metadata": {},
   "source": [
    "For regression problems, we may prefer to leave the bias term unregularized. One approach is\n",
    "to change $J(\\theta)$ so that the bias is separated out from the other parameters and left unregularized.\n",
    "Another approach that can achieve approximately the same thing is to use a very large\n",
    "number B, rather than 1, for the extra bias dimension. Explain why making B large decreases\n",
    "the effective regularization on the bias term, and how we can make that regularization as weak\n",
    "as we like (though not zero)."
   ]
  },
  {
   "cell_type": "markdown",
   "metadata": {},
   "source": [
    "# Hyperparameter Optimazation  (Using Train data)"
   ]
  },
  {
   "cell_type": "markdown",
   "metadata": {},
   "source": [
    "## Manually "
   ]
  },
  {
   "cell_type": "code",
   "execution_count": 107,
   "metadata": {},
   "outputs": [
    {
     "name": "stdout",
     "output_type": "stream",
     "text": [
      "loading the dataset\n",
      "Split into Train and Test\n",
      "Scaling all to [0, 1]\n"
     ]
    },
    {
     "data": {
      "image/png": "[encoded data removed]",
      "text/plain": [
       "<Figure size 432x288 with 1 Axes>"
      ]
     },
     "metadata": {
      "needs_background": "light"
     },
     "output_type": "display_data"
    }
   ],
   "source": [
    "print('loading the dataset')\n",
    "\n",
    "df = pd.read_csv('data.csv', delimiter=',')\n",
    "X = df.values[:,:-1]\n",
    "y = df.values[:,-1]\n",
    "\n",
    "print('Split into Train and Test')\n",
    "X_train, X_test, y_train, y_test = train_test_split(X, y, test_size =100, random_state=10)\n",
    "\n",
    "print(\"Scaling all to [0, 1]\")\n",
    "X_train, X_test = feature_normalization(X_train, X_test)\n",
    "B=1\n",
    "X_train = np.hstack((X_train, B*np.ones((X_train.shape[0], 1))))  # Add bias term\n",
    "X_test = np.hstack((X_test, B*np.ones((X_test.shape[0], 1)))) # Add bias term\n",
    "lamda=np.array([1e-7,1e-5,1e-3,0.1,1,10,100])\n",
    "xticks=np.ones_like(lamda)\n",
    "for item in range(0,lamda.shape[0]):\n",
    "    xticks[item]=xticks[item]+item\n",
    "\n",
    "test_loss=np.zeros_like(lamda)\n",
    "train_loss=np.zeros_like(lamda)\n",
    "for item in range(0,lamda.shape[0]):\n",
    "    theta_history, loss_history=regularized_grad_descent(X_train, y_train, alpha=0.1, lambda_reg=lamda[item], num_iter=1000)\n",
    "    train_loss[item] = loss_history[-1]\n",
    "    test_loss[item] = compute_square_loss(X_test, y_test, theta_history[-1,:])\n",
    "\n",
    "fig=plt.figure()\n",
    "ax=fig.add_subplot(1,1,1)\n",
    "ax.scatter(xticks[0:3], train_loss[0:3], color=\"red\", marker='+', label='train loss')\n",
    "ax.scatter(xticks[0:3], test_loss[0:3], color=\"red\", marker='o', label='test loss')\n",
    "ax.set_xticks(xticks)\n",
    "ax.set_xticklabels(['$10^{-7}$', '$10^{-5}$', '$10^{-3}$'], \n",
    "                   fontsize=18)\n",
    "ax.legend()\n",
    "plt.savefig('compare_loss.png')"
   ]
  },
  {
   "cell_type": "code",
   "execution_count": 108,
   "metadata": {},
   "outputs": [
    {
     "data": {
      "image/png": "[encoded data removed]",
      "text/plain": [
       "<Figure size 432x288 with 1 Axes>"
      ]
     },
     "metadata": {
      "needs_background": "light"
     },
     "output_type": "display_data"
    }
   ],
   "source": [
    "lamda=np.array([1e-8,1e-7,1e-6,1e-5,1e-4,1e-3])\n",
    "xticks=np.ones_like(lamda)\n",
    "for item in range(0,lamda.shape[0]):\n",
    "    xticks[item]=xticks[item]+item\n",
    "\n",
    "test_loss=np.zeros_like(lamda)\n",
    "train_loss=np.zeros_like(lamda)\n",
    "for item in range(0,lamda.shape[0]):\n",
    "    theta_history, loss_history=regularized_grad_descent(X_train, y_train, alpha=0.1, lambda_reg=lamda[item], num_iter=1000)\n",
    "    train_loss[item] = loss_history[-1]\n",
    "    test_loss[item] = compute_square_loss(X_test, y_test, theta_history[-1,:])\n",
    "\n",
    "fig=plt.figure()\n",
    "ax=fig.add_subplot(1,1,1)\n",
    "ax.scatter(xticks, train_loss, color=\"red\", marker='+', label='train loss')\n",
    "ax.scatter(xticks, test_loss, color=\"red\", marker='o', label='test loss')\n",
    "ax.set_xticks(xticks)\n",
    "ax.set_xticklabels(['$10^{-8}$', '$10^{-7}$', '$10^{-6}$', '$10^{-5}$', '$10^{-4}$', '$10^{-3}$'], \n",
    "                   fontsize=18)\n",
    "ax.legend()\n",
    "plt.savefig('compare_loss.png')"
   ]
  },
  {
   "cell_type": "code",
   "execution_count": 109,
   "metadata": {},
   "outputs": [
    {
     "data": {
      "text/plain": [
       "array([2.59679612, 2.59680198, 2.59686062, 2.59756902, 2.6041572 ,\n",
       "       2.67661049])"
      ]
     },
     "execution_count": 109,
     "metadata": {},
     "output_type": "execute_result"
    }
   ],
   "source": [
    "train_loss"
   ]
  },
  {
   "cell_type": "code",
   "execution_count": 110,
   "metadata": {},
   "outputs": [
    {
     "data": {
      "image/png": "[encoded data removed]",
      "text/plain": [
       "<Figure size 432x288 with 2 Axes>"
      ]
     },
     "metadata": {
      "needs_background": "light"
     },
     "output_type": "display_data"
    }
   ],
   "source": [
    "fig=plt.figure()\n",
    "ax1=fig.add_subplot(1,2,1)\n",
    "ax1.scatter(xticks, train_loss, color=\"red\", marker='+', label='train loss')\n",
    "ax1.set_xticks(xticks)\n",
    "ax1.set_xticklabels(['$10^{-8}$', '$10^{-7}$', '$10^{-6}$', '$10^{-5}$', '$10^{-4}$', '$10^{-3}$'], \n",
    "                   fontsize=18)\n",
    "ax1.legend()\n",
    "ax2=fig.add_subplot(1,2,2)\n",
    "ax2.scatter(xticks, test_loss, color=\"blue\", marker='o', label='test loss')\n",
    "ax2.set_xticks(xticks)\n",
    "ax2.set_xticklabels(['$10^{-8}$', '$10^{-7}$', '$10^{-6}$', '$10^{-5}$', '$10^{-4}$', '$10^{-3}$'], \n",
    "                   fontsize=18)\n",
    "ax2.legend()\n",
    "plt.savefig('compare_loss_seperate.png')"
   ]
  },
  {
   "cell_type": "code",
   "execution_count": 111,
   "metadata": {},
   "outputs": [
    {
     "data": {
      "text/plain": [
       "array([2.48774828, 2.48774791, 2.48774421, 2.48771584, 2.48764886,\n",
       "       2.4821629 ])"
      ]
     },
     "execution_count": 111,
     "metadata": {},
     "output_type": "execute_result"
    }
   ],
   "source": [
    "test_loss"
   ]
  },
  {
   "cell_type": "code",
   "execution_count": 112,
   "metadata": {},
   "outputs": [
    {
     "data": {
      "text/plain": [
       "2.4821628978082413"
      ]
     },
     "execution_count": 112,
     "metadata": {},
     "output_type": "execute_result"
    }
   ],
   "source": [
    "np.min(test_loss)"
   ]
  },
  {
   "cell_type": "markdown",
   "metadata": {},
   "source": [
    "$\\lambda^*=10^{-3}$ makes test loss low"
   ]
  },
  {
   "cell_type": "markdown",
   "metadata": {},
   "source": [
    "## Sklearn"
   ]
  },
  {
   "cell_type": "code",
   "execution_count": 113,
   "metadata": {},
   "outputs": [],
   "source": [
    "from sklearn.linear_model import Ridge\n",
    "from sklearn.model_selection import GridSearchCV"
   ]
  },
  {
   "cell_type": "code",
   "execution_count": 114,
   "metadata": {},
   "outputs": [
    {
     "data": {
      "text/plain": [
       "100"
      ]
     },
     "execution_count": 114,
     "metadata": {},
     "output_type": "execute_result"
    }
   ],
   "source": [
    "m=X_train.shape[0]\n",
    "m"
   ]
  },
  {
   "cell_type": "code",
   "execution_count": 115,
   "metadata": {},
   "outputs": [],
   "source": [
    "lamda=np.array([m*1e-8,m*1e-7,m*1e-6,m*1e-5,m*1e-4,m*1e-3])"
   ]
  },
  {
   "cell_type": "code",
   "execution_count": 116,
   "metadata": {},
   "outputs": [
    {
     "name": "stderr",
     "output_type": "stream",
     "text": [
      "C:\\Users\\Standard\\Anaconda3\\lib\\site-packages\\sklearn\\model_selection\\_split.py:1943: FutureWarning: You should specify a value for 'cv' instead of relying on the default value. The default value will change from 3 to 5 in version 0.22.\n",
      "  warnings.warn(CV_WARNING, FutureWarning)\n",
      "C:\\Users\\Standard\\Anaconda3\\lib\\site-packages\\sklearn\\model_selection\\_search.py:841: DeprecationWarning: The default of the `iid` parameter will change from True to False in version 0.22 and will be removed in 0.24. This will change numeric results when test-set sizes are unequal.\n",
      "  DeprecationWarning)\n"
     ]
    },
    {
     "data": {
      "text/plain": [
       "GridSearchCV(cv='warn', error_score='raise-deprecating',\n",
       "       estimator=Ridge(alpha=1.0, copy_X=True, fit_intercept=True, max_iter=None,\n",
       "   normalize=False, random_state=None, solver='auto', tol=0.001),\n",
       "       fit_params=None, iid='warn', n_jobs=None,\n",
       "       param_grid={'alpha': array([1.e-06, 1.e-05, 1.e-04, 1.e-03, 1.e-02, 1.e-01])},\n",
       "       pre_dispatch='2*n_jobs', refit=True, return_train_score='warn',\n",
       "       scoring=None, verbose=0)"
      ]
     },
     "execution_count": 116,
     "metadata": {},
     "output_type": "execute_result"
    }
   ],
   "source": [
    "model = Ridge()\n",
    "grid = GridSearchCV(estimator=model, param_grid=dict(alpha=lamda))\n",
    "grid.fit(X_train, y_train)"
   ]
  },
  {
   "cell_type": "code",
   "execution_count": 117,
   "metadata": {},
   "outputs": [
    {
     "data": {
      "text/plain": [
       "0.5309547111077512"
      ]
     },
     "execution_count": 117,
     "metadata": {},
     "output_type": "execute_result"
    }
   ],
   "source": [
    "grid.best_score_"
   ]
  },
  {
   "cell_type": "code",
   "execution_count": 118,
   "metadata": {},
   "outputs": [
    {
     "data": {
      "text/plain": [
       "0.1"
      ]
     },
     "execution_count": 118,
     "metadata": {},
     "output_type": "execute_result"
    }
   ],
   "source": [
    "grid.best_estimator_.alpha"
   ]
  },
  {
   "cell_type": "code",
   "execution_count": 119,
   "metadata": {},
   "outputs": [
    {
     "data": {
      "text/plain": [
       "0.001"
      ]
     },
     "execution_count": 119,
     "metadata": {},
     "output_type": "execute_result"
    }
   ],
   "source": [
    "grid.best_estimator_.alpha/m"
   ]
  },
  {
   "cell_type": "markdown",
   "metadata": {},
   "source": [
    "so $\\lambda^*=0.001$"
   ]
  },
  {
   "cell_type": "markdown",
   "metadata": {},
   "source": [
    "# Retrain model on train + validation (The X_train and y_train)"
   ]
  },
  {
   "cell_type": "code",
   "execution_count": 120,
   "metadata": {},
   "outputs": [],
   "source": [
    "theta_history, loss_history=regularized_grad_descent(X_train, y_train, alpha=0.1, lambda_reg=0.001, num_iter=1000)"
   ]
  },
  {
   "cell_type": "code",
   "execution_count": 121,
   "metadata": {},
   "outputs": [
    {
     "data": {
      "text/plain": [
       "array([-1.1668515 ,  0.56712153,  1.49094325,  2.10147751, -1.49874639,\n",
       "       -0.89443272, -0.82145853, -0.82145853,  0.62786966,  1.48474111,\n",
       "        2.19217901, -0.25471058, -1.66818958, -3.71305584,  1.44407173,\n",
       "        2.23847927,  1.43828327,  0.35506503, -0.08784268, -0.08784268,\n",
       "       -0.08784268, -0.01081915, -0.01081915, -0.01081915,  0.02018528,\n",
       "        0.02018528,  0.02018528,  0.03517483,  0.03517483,  0.03517483,\n",
       "        0.04368964,  0.04368964,  0.04368964, -0.03577553, -0.03577553,\n",
       "       -0.03577553,  0.10828274,  0.10828274,  0.10828274,  0.08986028,\n",
       "        0.08986028,  0.08986028,  0.08146847,  0.08146847,  0.08146847,\n",
       "        0.07685207,  0.07685207,  0.07685207, -1.35707114])"
      ]
     },
     "execution_count": 121,
     "metadata": {},
     "output_type": "execute_result"
    }
   ],
   "source": [
    "theta_history[-1,:]"
   ]
  },
  {
   "cell_type": "markdown",
   "metadata": {},
   "source": [
    "# Evaluate performance on test set"
   ]
  },
  {
   "cell_type": "code",
   "execution_count": 122,
   "metadata": {},
   "outputs": [],
   "source": [
    "test_loss = compute_square_loss(X_test, y_test, theta_history[-1,:])"
   ]
  },
  {
   "cell_type": "code",
   "execution_count": 123,
   "metadata": {},
   "outputs": [
    {
     "data": {
      "text/plain": [
       "2.4821628978082413"
      ]
     },
     "execution_count": 123,
     "metadata": {},
     "output_type": "execute_result"
    }
   ],
   "source": [
    "test_loss"
   ]
  },
  {
   "cell_type": "markdown",
   "metadata": {},
   "source": [
    "# Retrain on all labeled data (training + validation + test) "
   ]
  },
  {
   "cell_type": "code",
   "execution_count": 124,
   "metadata": {},
   "outputs": [],
   "source": [
    "data=np.concatenate((X_train,X_test),axis=0)\n",
    "target=np.concatenate((y_train,y_test),axis=0)"
   ]
  },
  {
   "cell_type": "code",
   "execution_count": 125,
   "metadata": {},
   "outputs": [],
   "source": [
    "theta_history, loss_history=regularized_grad_descent(data, target, alpha=0.1, lambda_reg=0.001, num_iter=1000)"
   ]
  },
  {
   "cell_type": "code",
   "execution_count": 126,
   "metadata": {},
   "outputs": [
    {
     "data": {
      "text/plain": [
       "array([-0.983827  ,  0.5302578 ,  1.48099645,  1.58144118, -1.1241057 ,\n",
       "       -1.18858524, -0.83211179, -0.46434814,  0.8603347 ,  1.11201184,\n",
       "        1.59852537, -0.08022992, -1.35481456, -2.86785642,  1.07610386,\n",
       "        1.77568193,  1.18114939,  0.311902  , -0.12835122, -0.12835122,\n",
       "       -0.12835122, -0.02946735, -0.02946735, -0.02946735,  0.00911952,\n",
       "        0.00911952,  0.00911952,  0.02734978,  0.02734978,  0.02734978,\n",
       "        0.03757696,  0.03757696,  0.03757696,  0.05726558,  0.05726558,\n",
       "        0.05726558,  0.13430675,  0.13430675,  0.13430675,  0.10390023,\n",
       "        0.10390023,  0.10390023,  0.08997127,  0.08997127,  0.08997127,\n",
       "        0.08228752,  0.08228752,  0.08228752, -1.08046275])"
      ]
     },
     "execution_count": 126,
     "metadata": {},
     "output_type": "execute_result"
    }
   ],
   "source": [
    "theta_history[-1,:]"
   ]
  },
  {
   "cell_type": "markdown",
   "metadata": {},
   "source": [
    "deployment $\\hat{y}=X\\theta$ with $\\theta=$ theta_history[-1,:]"
   ]
  },
  {
   "cell_type": "markdown",
   "metadata": {},
   "source": [
    "# SGD "
   ]
  },
  {
   "cell_type": "markdown",
   "metadata": {},
   "source": [
    " Sometimes, .reshape is useful to avoid problem like shape(m,1) and shape (m,) don't be alogned"
   ]
  },
  {
   "cell_type": "code",
   "execution_count": 140,
   "metadata": {},
   "outputs": [],
   "source": [
    "def compute_square_loss(X, y, theta):\n",
    "\n",
    "    \n",
    "    #loss = 0 #initialize the square_loss\n",
    "    #TODO\n",
    "    (num_instances, num_features)=X.shape\n",
    "    return np.linalg.norm(np.dot(X,theta.reshape((num_features,1)))-y,ord=2)**2/num_instances"
   ]
  },
  {
   "cell_type": "code",
   "execution_count": 146,
   "metadata": {},
   "outputs": [
    {
     "data": {
      "text/plain": [
       "796.1518343622414"
      ]
     },
     "execution_count": 146,
     "metadata": {},
     "output_type": "execute_result"
    }
   ],
   "source": [
    "SGD_loss[0]"
   ]
  },
  {
   "cell_type": "code",
   "execution_count": 147,
   "metadata": {},
   "outputs": [
    {
     "data": {
      "text/plain": [
       "7.961518343622414"
      ]
     },
     "execution_count": 147,
     "metadata": {},
     "output_type": "execute_result"
    }
   ],
   "source": [
    "compute_square_loss(X_train,y_train,np.zeros(49))"
   ]
  },
  {
   "cell_type": "code",
   "execution_count": 281,
   "metadata": {},
   "outputs": [
    {
     "data": {
      "text/plain": [
       "array([3., 2.])"
      ]
     },
     "execution_count": 281,
     "metadata": {},
     "output_type": "execute_result"
    }
   ],
   "source": [
    "A=np.array([[1,2],[1,1]])\n",
    "x1=np.ones(2)\n",
    "np.dot(A,x1)"
   ]
  },
  {
   "cell_type": "code",
   "execution_count": 282,
   "metadata": {},
   "outputs": [
    {
     "data": {
      "text/plain": [
       "(2,)"
      ]
     },
     "execution_count": 282,
     "metadata": {},
     "output_type": "execute_result"
    }
   ],
   "source": [
    "x1.shape"
   ]
  },
  {
   "cell_type": "code",
   "execution_count": 283,
   "metadata": {},
   "outputs": [
    {
     "data": {
      "text/plain": [
       "(2,)"
      ]
     },
     "execution_count": 283,
     "metadata": {},
     "output_type": "execute_result"
    }
   ],
   "source": [
    "np.dot(A,x1).shape"
   ]
  },
  {
   "cell_type": "code",
   "execution_count": 284,
   "metadata": {},
   "outputs": [
    {
     "data": {
      "text/plain": [
       "array([[3],\n",
       "       [2]])"
      ]
     },
     "execution_count": 284,
     "metadata": {},
     "output_type": "execute_result"
    }
   ],
   "source": [
    "A=np.array([[1,2],[1,1]])\n",
    "x1=np.array([[1],[1]])\n",
    "np.dot(A,x1)"
   ]
  },
  {
   "cell_type": "code",
   "execution_count": 286,
   "metadata": {},
   "outputs": [
    {
     "data": {
      "text/plain": [
       "array([3., 2.])"
      ]
     },
     "execution_count": 286,
     "metadata": {},
     "output_type": "execute_result"
    }
   ],
   "source": [
    "x3=np.ones((2,2))\n",
    "np.dot(A,x3[1])"
   ]
  },
  {
   "cell_type": "code",
   "execution_count": 304,
   "metadata": {},
   "outputs": [
    {
     "data": {
      "text/plain": [
       "(2,)"
      ]
     },
     "execution_count": 304,
     "metadata": {},
     "output_type": "execute_result"
    }
   ],
   "source": [
    "x3[1].shape"
   ]
  },
  {
   "cell_type": "code",
   "execution_count": 289,
   "metadata": {},
   "outputs": [
    {
     "data": {
      "text/plain": [
       "2.0"
      ]
     },
     "execution_count": 289,
     "metadata": {},
     "output_type": "execute_result"
    }
   ],
   "source": [
    "A=np.array([[1,2],[1,1],[2,1]])\n",
    "np.dot(A[1],x3[1])"
   ]
  },
  {
   "cell_type": "code",
   "execution_count": 291,
   "metadata": {},
   "outputs": [
    {
     "data": {
      "text/plain": [
       "(2,)"
      ]
     },
     "execution_count": 291,
     "metadata": {},
     "output_type": "execute_result"
    }
   ],
   "source": [
    "A[1].shape"
   ]
  },
  {
   "cell_type": "code",
   "execution_count": 292,
   "metadata": {},
   "outputs": [
    {
     "data": {
      "text/plain": [
       "(2,)"
      ]
     },
     "execution_count": 292,
     "metadata": {},
     "output_type": "execute_result"
    }
   ],
   "source": [
    "x3[1].shape"
   ]
  },
  {
   "cell_type": "code",
   "execution_count": 306,
   "metadata": {},
   "outputs": [
    {
     "data": {
      "text/plain": [
       "array([[1., 1.],\n",
       "       [1., 1.]])"
      ]
     },
     "execution_count": 306,
     "metadata": {},
     "output_type": "execute_result"
    }
   ],
   "source": [
    "x3[0]=x3[0]\n",
    "x3"
   ]
  },
  {
   "cell_type": "code",
   "execution_count": 4,
   "metadata": {},
   "outputs": [],
   "source": [
    "def compute_square_loss(X, y, theta):\n",
    "\n",
    "    \n",
    "    #loss = 0 #initialize the square_loss\n",
    "    #TODO\n",
    "    num_instances=y.shape[0]\n",
    "    return np.linalg.norm(np.dot(X,theta.reshape((X.shape[1]),1))-y,ord=2)**2/num_instances"
   ]
  },
  {
   "cell_type": "code",
   "execution_count": 49,
   "metadata": {},
   "outputs": [],
   "source": [
    "def stochastic_grad_descent(X, y, alpha=0.1, lambda_reg=1, num_iter=1000):\n",
    "    \"\"\"\n",
    "    In this question you will implement stochastic gradient descent with a regularization term\n",
    "\n",
    "    Args:\n",
    "        X - the feature vector, 2D numpy array of size (num_instances, num_features)\n",
    "        y - the label vector, 1D numpy array of size (num_instances)\n",
    "        alpha - string or float. step size in gradient descent\n",
    "                NOTE: In SGD, it's not always a good idea to use a fixed step size. \n",
    "                Usually it's set to 1/sqrt(t) or 1/t, where t means the number of iterrations\n",
    "                if alpha is a float, then the step size in every iteration is alpha.\n",
    "                if alpha == \"1/sqrt(t)\", alpha = 1/sqrt(t)\n",
    "                if alpha == \"1/t\", alpha = 1/t\n",
    "        lambda_reg - the regularization coefficient\n",
    "        num_iter - number of epochs (i.e number of times) to go through the whole training set\n",
    "\n",
    "    Returns:\n",
    "        theta_hist - the history of parameter vector, 3D numpy array of size (num_iter, num_instances, num_features)\n",
    "        loss hist - the history of regularized loss function vector, 2D numpy array of size(num_iter, num_instances)\n",
    "    \"\"\"\n",
    "    (num_instances, num_features) = X.shape\n",
    "    theta = np.zeros(num_features) #Initialize theta\n",
    "    theta_hist = np.zeros((num_iter+1, num_features))  #Initialize theta_hist\n",
    "    loss_hist = np.zeros(num_iter+1) #Initialize loss_hist\n",
    "    #TODO\n",
    "\n",
    "    def backtracking_step_size(func_current, gradient, beta, gamma, X, y, theta_current, lambda_reg):\n",
    "        func_derivative = - beta*np.linalg.norm(gradient)\n",
    "        func_new=compute_square_loss(X,y,theta_current+gradient) +\\\n",
    "        lambda_reg*np.linalg.norm(theta_current+gradient,ord=2)**2\n",
    "        t=1\n",
    "        while func_new > func_current + t*func_derivative:\n",
    "            t=gamma*t\n",
    "            func_new = compute_square_loss(X,y,theta_current+t*gradient)+\\\n",
    "            lambda_reg*np.linalg.norm(theta_current+t*gradient,ord=2)**2\n",
    "        #return theta_new, func_new\n",
    "\n",
    "        return theta_current+t*gradient, func_new\n",
    "\n",
    "    loss_hist[0] = compute_square_loss(X,y,theta)+lambda_reg*np.linalg.norm(theta,ord=2)**2\n",
    "    beta=0.25\n",
    "    gamma=0.25\n",
    "\n",
    "    for num in range(1,num_iter):\n",
    "        random_i = np.random.randint(num_instances,size=1)\n",
    "        loss_gradient = -2*(np.dot(X[random_i],theta_hist[num-1])-y[random_i])*X[random_i]\\\n",
    "        -2*lambda_reg*theta_hist[num-1] # (num_features,1)\n",
    "   \n",
    "        if np.linalg.norm(loss_gradient,ord=2) <= 10e-6:\n",
    "            break\n",
    "        theta_hist[num], loss_hist[num] = backtracking_step_size(loss_hist[num-1], \\\n",
    "            loss_gradient, beta, gamma, X, y, theta_hist[num-1], lambda_reg)\n",
    "     \n",
    "    \n",
    "    theta_hist = theta_hist[0:num]\n",
    "    loss_hist = loss_hist[0:num] \n",
    "    return theta_hist, loss_hist"
   ]
  },
  {
   "cell_type": "code",
   "execution_count": null,
   "metadata": {},
   "outputs": [],
   "source": [
    "SGD_theta, SGD_loss=stochastic_grad_descent(X_train, y_train, alpha=0.001, lambda_reg=1, num_iter=1000)"
   ]
  },
  {
   "cell_type": "code",
   "execution_count": 89,
   "metadata": {},
   "outputs": [
    {
     "ename": "ValueError",
     "evalue": "shapes (100,49) and (1,49) not aligned: 49 (dim 1) != 1 (dim 0)",
     "output_type": "error",
     "traceback": [
      "\u001b[1;31m---------------------------------------------------------------------------\u001b[0m",
      "\u001b[1;31mValueError\u001b[0m                                Traceback (most recent call last)",
      "\u001b[1;32m<ipython-input-89-cb759892adca>\u001b[0m in \u001b[0;36m<module>\u001b[1;34m\u001b[0m\n\u001b[1;32m----> 1\u001b[1;33m \u001b[1;33m(\u001b[0m\u001b[0mtheta_history\u001b[0m\u001b[1;33m,\u001b[0m \u001b[0mloss_history\u001b[0m\u001b[1;33m)\u001b[0m\u001b[1;33m=\u001b[0m\u001b[0mstochastic_grad_descent\u001b[0m\u001b[1;33m(\u001b[0m\u001b[0mX_train\u001b[0m\u001b[1;33m,\u001b[0m \u001b[0my_train\u001b[0m\u001b[1;33m,\u001b[0m \u001b[0malpha\u001b[0m\u001b[1;33m=\u001b[0m\u001b[1;36m0.001\u001b[0m\u001b[1;33m,\u001b[0m \u001b[0mlambda_reg\u001b[0m\u001b[1;33m=\u001b[0m\u001b[1;36m1\u001b[0m\u001b[1;33m,\u001b[0m \u001b[0mnum_iter\u001b[0m\u001b[1;33m=\u001b[0m\u001b[1;36m1000\u001b[0m\u001b[1;33m)\u001b[0m\u001b[1;33m\u001b[0m\u001b[0m\n\u001b[0m",
      "\u001b[1;32m<ipython-input-49-8e50655699d0>\u001b[0m in \u001b[0;36mstochastic_grad_descent\u001b[1;34m(X, y, alpha, lambda_reg, num_iter)\u001b[0m\n\u001b[0;32m     50\u001b[0m             \u001b[1;32mbreak\u001b[0m\u001b[1;33m\u001b[0m\u001b[0m\n\u001b[0;32m     51\u001b[0m         theta_hist[num], loss_hist[num] = backtracking_step_size(loss_hist[num-1], \\\n\u001b[1;32m---> 52\u001b[1;33m             loss_gradient, beta, gamma, X, y, theta_hist[num-1], lambda_reg)\n\u001b[0m\u001b[0;32m     53\u001b[0m \u001b[1;33m\u001b[0m\u001b[0m\n\u001b[0;32m     54\u001b[0m \u001b[1;33m\u001b[0m\u001b[0m\n",
      "\u001b[1;32m<ipython-input-49-8e50655699d0>\u001b[0m in \u001b[0;36mbacktracking_step_size\u001b[1;34m(func_current, gradient, beta, gamma, X, y, theta_current, lambda_reg)\u001b[0m\n\u001b[0;32m     27\u001b[0m     \u001b[1;32mdef\u001b[0m \u001b[0mbacktracking_step_size\u001b[0m\u001b[1;33m(\u001b[0m\u001b[0mfunc_current\u001b[0m\u001b[1;33m,\u001b[0m \u001b[0mgradient\u001b[0m\u001b[1;33m,\u001b[0m \u001b[0mbeta\u001b[0m\u001b[1;33m,\u001b[0m \u001b[0mgamma\u001b[0m\u001b[1;33m,\u001b[0m \u001b[0mX\u001b[0m\u001b[1;33m,\u001b[0m \u001b[0my\u001b[0m\u001b[1;33m,\u001b[0m \u001b[0mtheta_current\u001b[0m\u001b[1;33m,\u001b[0m \u001b[0mlambda_reg\u001b[0m\u001b[1;33m)\u001b[0m\u001b[1;33m:\u001b[0m\u001b[1;33m\u001b[0m\u001b[0m\n\u001b[0;32m     28\u001b[0m         \u001b[0mfunc_derivative\u001b[0m \u001b[1;33m=\u001b[0m \u001b[1;33m-\u001b[0m \u001b[0mbeta\u001b[0m\u001b[1;33m*\u001b[0m\u001b[0mnp\u001b[0m\u001b[1;33m.\u001b[0m\u001b[0mlinalg\u001b[0m\u001b[1;33m.\u001b[0m\u001b[0mnorm\u001b[0m\u001b[1;33m(\u001b[0m\u001b[0mgradient\u001b[0m\u001b[1;33m)\u001b[0m\u001b[1;33m\u001b[0m\u001b[0m\n\u001b[1;32m---> 29\u001b[1;33m         \u001b[0mfunc_new\u001b[0m\u001b[1;33m=\u001b[0m\u001b[0mcompute_square_loss\u001b[0m\u001b[1;33m(\u001b[0m\u001b[0mX\u001b[0m\u001b[1;33m,\u001b[0m\u001b[0my\u001b[0m\u001b[1;33m,\u001b[0m\u001b[0mtheta_current\u001b[0m\u001b[1;33m+\u001b[0m\u001b[0mgradient\u001b[0m\u001b[1;33m)\u001b[0m \u001b[1;33m+\u001b[0m\u001b[0;31m\\\u001b[0m\u001b[1;33m\u001b[0m\u001b[0m\n\u001b[0m\u001b[0;32m     30\u001b[0m         \u001b[0mlambda_reg\u001b[0m\u001b[1;33m*\u001b[0m\u001b[0mnp\u001b[0m\u001b[1;33m.\u001b[0m\u001b[0mlinalg\u001b[0m\u001b[1;33m.\u001b[0m\u001b[0mnorm\u001b[0m\u001b[1;33m(\u001b[0m\u001b[0mtheta_current\u001b[0m\u001b[1;33m+\u001b[0m\u001b[0mgradient\u001b[0m\u001b[1;33m,\u001b[0m\u001b[0mord\u001b[0m\u001b[1;33m=\u001b[0m\u001b[1;36m2\u001b[0m\u001b[1;33m)\u001b[0m\u001b[1;33m**\u001b[0m\u001b[1;36m2\u001b[0m\u001b[1;33m\u001b[0m\u001b[0m\n\u001b[0;32m     31\u001b[0m         \u001b[0mt\u001b[0m\u001b[1;33m=\u001b[0m\u001b[1;36m1\u001b[0m\u001b[1;33m\u001b[0m\u001b[0m\n",
      "\u001b[1;32m<ipython-input-59-8338a87e1d19>\u001b[0m in \u001b[0;36mcompute_square_loss\u001b[1;34m(X, y, theta)\u001b[0m\n\u001b[0;32m      1\u001b[0m \u001b[1;32mdef\u001b[0m \u001b[0mcompute_square_loss\u001b[0m\u001b[1;33m(\u001b[0m\u001b[0mX\u001b[0m\u001b[1;33m,\u001b[0m \u001b[0my\u001b[0m\u001b[1;33m,\u001b[0m \u001b[0mtheta\u001b[0m\u001b[1;33m)\u001b[0m\u001b[1;33m:\u001b[0m\u001b[1;33m\u001b[0m\u001b[0m\n\u001b[0;32m      2\u001b[0m \u001b[1;33m\u001b[0m\u001b[0m\n\u001b[1;32m----> 3\u001b[1;33m     \u001b[1;32mreturn\u001b[0m \u001b[0mnp\u001b[0m\u001b[1;33m.\u001b[0m\u001b[0mlinalg\u001b[0m\u001b[1;33m.\u001b[0m\u001b[0mnorm\u001b[0m\u001b[1;33m(\u001b[0m\u001b[0mnp\u001b[0m\u001b[1;33m.\u001b[0m\u001b[0mdot\u001b[0m\u001b[1;33m(\u001b[0m\u001b[0mX\u001b[0m\u001b[1;33m,\u001b[0m\u001b[0mtheta\u001b[0m\u001b[1;33m)\u001b[0m\u001b[1;33m-\u001b[0m\u001b[0my\u001b[0m\u001b[1;33m,\u001b[0m\u001b[0mord\u001b[0m\u001b[1;33m=\u001b[0m\u001b[1;36m2\u001b[0m\u001b[1;33m)\u001b[0m\u001b[1;33m**\u001b[0m\u001b[1;36m2\u001b[0m\u001b[1;33m/\u001b[0m\u001b[0my\u001b[0m\u001b[1;33m.\u001b[0m\u001b[0mshape\u001b[0m\u001b[1;33m[\u001b[0m\u001b[1;36m0\u001b[0m\u001b[1;33m]\u001b[0m\u001b[1;33m\u001b[0m\u001b[0m\n\u001b[0m",
      "\u001b[1;31mValueError\u001b[0m: shapes (100,49) and (1,49) not aligned: 49 (dim 1) != 1 (dim 0)"
     ]
    }
   ],
   "source": [
    "(theta_history, loss_history)=stochastic_grad_descent(X_train, y_train, alpha=0.001, lambda_reg=1, num_iter=1000)"
   ]
  },
  {
   "cell_type": "code",
   "execution_count": 53,
   "metadata": {},
   "outputs": [
    {
     "data": {
      "text/plain": [
       "796.1518343622414"
      ]
     },
     "execution_count": 53,
     "metadata": {},
     "output_type": "execute_result"
    }
   ],
   "source": [
    "loss_history[0]"
   ]
  },
  {
   "cell_type": "code",
   "execution_count": 21,
   "metadata": {},
   "outputs": [],
   "source": [
    "(theta_history1, loss_history1)=batch_grad_descent(X_train, y_train, alpha=0.1, num_iter=1000, check_gradient=True)"
   ]
  },
  {
   "cell_type": "code",
   "execution_count": 82,
   "metadata": {},
   "outputs": [
    {
     "data": {
      "text/plain": [
       "796.1518343622414"
      ]
     },
     "execution_count": 82,
     "metadata": {},
     "output_type": "execute_result"
    }
   ],
   "source": [
    "loss_history1[0]"
   ]
  },
  {
   "cell_type": "code",
   "execution_count": 83,
   "metadata": {},
   "outputs": [
    {
     "data": {
      "text/plain": [
       "7.961518343622414"
      ]
     },
     "execution_count": 83,
     "metadata": {},
     "output_type": "execute_result"
    }
   ],
   "source": [
    "compute_square_loss(X_train,y_train,np.zeros(49))+1*np.linalg.norm(np.zeros(49),ord=2)**2"
   ]
  },
  {
   "cell_type": "code",
   "execution_count": 84,
   "metadata": {},
   "outputs": [
    {
     "data": {
      "text/plain": [
       "7.961518343622414"
      ]
     },
     "execution_count": 84,
     "metadata": {},
     "output_type": "execute_result"
    }
   ],
   "source": [
    "compute_square_loss(X_train,y_train,np.zeros(49))"
   ]
  },
  {
   "cell_type": "code",
   "execution_count": 85,
   "metadata": {},
   "outputs": [
    {
     "data": {
      "text/plain": [
       "0.0"
      ]
     },
     "execution_count": 85,
     "metadata": {},
     "output_type": "execute_result"
    }
   ],
   "source": [
    "np.linalg.norm(np.zeros(49),ord=2)**2"
   ]
  },
  {
   "cell_type": "code",
   "execution_count": 86,
   "metadata": {},
   "outputs": [
    {
     "data": {
      "text/plain": [
       "7.961518343622414"
      ]
     },
     "execution_count": 86,
     "metadata": {},
     "output_type": "execute_result"
    }
   ],
   "source": [
    "compute_square_loss(X_train,y_train,np.zeros(49))+1*np.linalg.norm(np.zeros(49),ord=2)**2"
   ]
  },
  {
   "cell_type": "code",
   "execution_count": 87,
   "metadata": {},
   "outputs": [
    {
     "data": {
      "text/plain": [
       "0.0"
      ]
     },
     "execution_count": 87,
     "metadata": {},
     "output_type": "execute_result"
    }
   ],
   "source": [
    "1*np.linalg.norm(np.zeros(49),ord=2)**2"
   ]
  },
  {
   "cell_type": "code",
   "execution_count": 88,
   "metadata": {},
   "outputs": [
    {
     "data": {
      "text/plain": [
       "7.961518343622414"
      ]
     },
     "execution_count": 88,
     "metadata": {},
     "output_type": "execute_result"
    }
   ],
   "source": [
    "a=compute_square_loss(X_train,y_train,np.zeros(49))\n",
    "a"
   ]
  },
  {
   "cell_type": "code",
   "execution_count": 78,
   "metadata": {},
   "outputs": [
    {
     "data": {
      "text/plain": [
       "0.0"
      ]
     },
     "execution_count": 78,
     "metadata": {},
     "output_type": "execute_result"
    }
   ],
   "source": [
    "b=1*np.linalg.norm(np.zeros(49),ord=2)**2\n",
    "b"
   ]
  },
  {
   "cell_type": "code",
   "execution_count": 80,
   "metadata": {},
   "outputs": [
    {
     "data": {
      "text/plain": [
       "7.961518343622414"
      ]
     },
     "execution_count": 80,
     "metadata": {},
     "output_type": "execute_result"
    }
   ],
   "source": [
    "a+b"
   ]
  },
  {
   "cell_type": "code",
   "execution_count": null,
   "metadata": {},
   "outputs": [],
   "source": []
  }
 ],
 "metadata": {
  "kernelspec": {
   "display_name": "Python 3",
   "language": "python",
   "name": "python3"
  },
  "language_info": {
   "codemirror_mode": {
    "name": "ipython",
    "version": 3
   },
   "file_extension": ".py",
   "mimetype": "text/x-python",
   "name": "python",
   "nbconvert_exporter": "python",
   "pygments_lexer": "ipython3",
   "version": "3.7.0"
  }
 },
 "nbformat": 4,
 "nbformat_minor": 2
}
